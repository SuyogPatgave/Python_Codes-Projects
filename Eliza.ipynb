{
  "cells": [
    {
      "cell_type": "markdown",
      "metadata": {
        "id": "view-in-github",
        "colab_type": "text"
      },
      "source": [
        "<a href=\"https://colab.research.google.com/github/SuyogPatgave/Python_Codes-Projects/blob/main/Eliza.ipynb\" target=\"_parent\"><img src=\"https://colab.research.google.com/assets/colab-badge.svg\" alt=\"Open In Colab\"/></a>"
      ]
    },
    {
      "cell_type": "markdown",
      "metadata": {
        "id": "eQ4fGpWMEdeM"
      },
      "source": [
        "#Chatbot Eliza\n",
        "\n",
        "\n",
        "### Description:\n",
        "This program is a Python-based psychotherapist chatbot, inspired by the classic Eliza chatbot. The program engages in a dialogue with the user, playing the role of a psychotherapist."
      ]
    },
    {
      "cell_type": "markdown",
      "metadata": {
        "id": "9d3OH2UvEdeP"
      },
      "source": [
        "### Problem:\n",
        "Create a psychotherapist chatbot using Python that can engage in a dialogue with the user, recognize key words for word spotting, transform statements into questions, and personalize the conversation using the user's name."
      ]
    },
    {
      "cell_type": "markdown",
      "metadata": {
        "id": "lPBn_GVcEdeQ"
      },
      "source": [
        "### Solution:\n",
        " Defined a set of user responses and patterns for word spotting.\n",
        " Implemented a decontracted() function to handle contractions in user input.\n",
        " Created a method to transform user statements into questions.\n",
        " Implemented the main chat loop to initialize the Eliza chatbot.\n",
        " Handled user input and provide responses based on patterns."
      ]
    },
    {
      "cell_type": "markdown",
      "metadata": {
        "id": "Vlu78XvGEdeQ"
      },
      "source": [
        "### Example Input and Output:\n",
        "<br>-> [eliza] Hi, I'm a psychotherapist. What is your name?\n",
        "<br>=> [user] My name is Brown.\n",
        "<br>-> [eliza] Hi Brown. How can I help you today?\n",
        "<br>=> [Brown] I feel sad.\n",
        "<br>-> [eliza] I'm here for you. What's causing you to feel sad? [transform statement into ?]\n",
        "<br>=> [Brown] I don't know, I think I am depressed.\n",
        "<br>-> [eliza] I am sorry, Tell me why are you feeling depressed? [word spot \"depressed\" and respond.]\n"
      ]
    },
    {
      "cell_type": "markdown",
      "metadata": {
        "id": "KhJwE6ApEdeR"
      },
      "source": [
        "### Algorithm:\n",
        "1. Initialize Eliza chatbot with a set of responses and patterns.\n",
        "2. Define a decontracted() function to handle contractions.\n",
        "3. Create a method to transform user statements into questions.\n",
        "4. Start the chat with a greeting and ask for the user's name.\n",
        "5. While in the chat loop, handle user input.\n",
        "6. Match user input to defined patterns.\n",
        "7. Respond with a random response from the matched pattern.\n",
        "8. If no pattern is matched, respond with a default message.\n",
        "9. Continue the chat until the user decides to exit.\n",
        "\n",
        "###References:\n",
        "\n",
        "1. https://www.youtube.com/watch?v=9mD_MM5MQSY\n",
        "2. https://stackoverflow.com/questions/49007346/convert-the-word-im-to-i-am-using-python\n",
        "3. GenAI/ChatGPT and BingAI (to modify and tune code)\n",
        "\n",
        "##### Programming Assignment – Chatbot Eliza\n",
        "##### Date: 11/08/2023\n",
        "##### Team: 3\n",
        "##### Course: AIT 526 - 007"
      ]
    },
    {
      "cell_type": "code",
      "execution_count": null,
      "metadata": {
        "id": "ludZGIiFxZJ4",
        "colab": {
          "base_uri": "https://localhost:8080/"
        },
        "outputId": "b36241ab-722d-4dc6-a49e-4cbdc31e06fe"
      },
      "outputs": [
        {
          "output_type": "stream",
          "name": "stdout",
          "text": [
            "Collecting pyfiglet\n",
            "  Downloading pyfiglet-1.0.2-py3-none-any.whl (1.1 MB)\n",
            "\u001b[?25l     \u001b[90m━━━━━━━━━━━━━━━━━━━━━━━━━━━━━━━━━━━━━━━━\u001b[0m \u001b[32m0.0/1.1 MB\u001b[0m \u001b[31m?\u001b[0m eta \u001b[36m-:--:--\u001b[0m\r\u001b[2K     \u001b[91m━━━\u001b[0m\u001b[90m╺\u001b[0m\u001b[90m━━━━━━━━━━━━━━━━━━━━━━━━━━━━━━━━━━━━\u001b[0m \u001b[32m0.1/1.1 MB\u001b[0m \u001b[31m2.6 MB/s\u001b[0m eta \u001b[36m0:00:01\u001b[0m\r\u001b[2K     \u001b[91m━━━━━━━━━━━━━━━━━━━━━━━━━━━━\u001b[0m\u001b[90m╺\u001b[0m\u001b[90m━━━━━━━━━━━\u001b[0m \u001b[32m0.8/1.1 MB\u001b[0m \u001b[31m11.0 MB/s\u001b[0m eta \u001b[36m0:00:01\u001b[0m\r\u001b[2K     \u001b[90m━━━━━━━━━━━━━━━━━━━━━━━━━━━━━━━━━━━━━━━━\u001b[0m \u001b[32m1.1/1.1 MB\u001b[0m \u001b[31m12.2 MB/s\u001b[0m eta \u001b[36m0:00:00\u001b[0m\n",
            "\u001b[?25hInstalling collected packages: pyfiglet\n",
            "Successfully installed pyfiglet-1.0.2\n",
            "Requirement already satisfied: termcolor in /usr/local/lib/python3.10/dist-packages (2.3.0)\n"
          ]
        }
      ],
      "source": [
        "#Import Libraries\n",
        "!pip install pyfiglet\n",
        "!pip install termcolor\n",
        "import re\n",
        "import random\n",
        "import string\n",
        "from termcolor import colored\n",
        "from pyfiglet import Figlet"
      ]
    },
    {
      "cell_type": "code",
      "execution_count": null,
      "metadata": {
        "id": "6SAsN5JzxgYc"
      },
      "outputs": [],
      "source": [
        "# Creating responses and patterns for word spotting\n",
        "\n",
        "response = {\n",
        "    \"hello\": [\"Hello, how can I help you today?\", \"How are you feeling?\"],\n",
        "    \"hi\": [\"Hello, how can I assist you?\"],\n",
        "    \"i feel (.*)\": [\"What's been causing you to feel {}?\", \"Tell me more about why you feel {}.\", \"Have you felt {} before?\"],\n",
        "    \"i am feeling (.*)\": [\"Since when have you been feeling {}?\", \"What makes you feel {}?\", \"Tell me more about feeling {}.\"],\n",
        "    \"i am looking for (.*)\": [\"May be I could help you find {}. Tell me more.\"],\n",
        "    \"I am so (.*)\": [\"Why do you feel so {}?\", \"I'm here to listen. What's behind your feeling of {}?\"],\n",
        "    \"i am (.*)\": [\"Why do you say you are {}?\", \"What makes you {}?\"],\n",
        "    \"how are you\": [\"I'm just a chatbot, but I'm here to help. How can I assist you today?\", \"I am fine! Thank you for asking! How are you feeling?\"],\n",
        "    \"how can you (.*)\": [\"With the best of my knowledge, I can {}. Will you tell me your story?\"],\n",
        "    \"can you (.*)\": [\"I'll do my best to {}!\", \"I'm here to assist, so tell me more about {}.\"],\n",
        "    \"i (.*) myself\": [\"Why do you {} yourself?\", \"What makes you think {} yourself?\", \"How long have you been {} yourself?\"],\n",
        "    \"(.*) sorry (.*)\": [\"No need to apologize. What's on your mind?\", \"You don't have to say sorry. How can I assist you?\"],\n",
        "    \"yes\": [\"What makes you feel sure?\", \"Alrighty! Tell me more.\", \"Okay... Can you elaborate?\"],\n",
        "    \"no\": [\"Why not? Can you share more about it?\", \"Okay, feel free to open up to me.\"],\n",
        "    \"thank you (.*)\": [\"You're welcome! How else can I assist you?\", \"It was my pleasure to help!\"],\n",
        "    \"bye\": [\"Goodbye! If you ever want to chat, I'll be here.\", \"Until next time!\"],\n",
        "    \"my name is (.*)\": [\"Nice to meet you, {}! How are you feeling today?\", \"Hello, {}. How can I assist you?\"],\n",
        "    \"i got (.*)\": [\"How did you come to have {}?\", \"Tell me more about getting into {}.\"],\n",
        "    \"i had (.*)\": [\"What's your experience with {}?\", \"I'd like to hear more about {}.\"],\n",
        "    \"i want to (.*)\": [\"Why do you want to {}?\", \"What's driving your desire to {}?\", \"How does {} make you feel?\"],\n",
        "    \"because (.*)\": [\"What leads you to say {}?\", \"Tell me more about the reasons for {}.\"],\n",
        "    \"you are (.*)\": [\"I don't really know if I am {}\"],\n",
        "    \"my name is (.*)\": [\"Nice to meet you, {}\"],\n",
        "    \"hi my name is (.*)\": [\"Nice to meet you, {}\"],\n",
        "    \"i have (.*)\": [\"When did you get {}?\"],\n",
        "    \"i wish (.*)\": [\"Why do you wish {}? Is that your desire?\"],\n",
        "    \"i just (.*)\": [\"What makes you say {}\"],\n",
        "    \"i can not (.*)\": [\"What's stopping you from {}\", \"Why can't you {}?\"],\n",
        "    \"i (.*)\": [\"How does {} make you feel?\", \"Can you tell me more about you experience of {}\"],\n",
        "    \"the (.*)\": [\"Tell me more about this {}\"],\n",
        "    \"when (.*)\": [\"What happened when during {}?\"],\n",
        "    \"since (.*)\": [\"What happened since {}?\"]\n",
        "}\n",
        "\n",
        "word_spotting_patterns = {\n",
        "    r\"(?i)anxious\": [\"I understand. Anxiety can be challenging. How can I assist you with your anxiety?\"],\n",
        "    r\"(?i)depressed\": [\"I am sorry, Tell me why are you feeling depressed.\"],\n",
        "    r\"(?i)good\": [\"That's great! What's making you feel good?\", \"That's great! Tell me more.\"],\n",
        "    r\"(?i)sad\": [\"I'm here for you. What's causing you to feel sad?. Describe your feeling\"],\n",
        "    r\"(?i)angry\": [\"What's been making you feel angry?\"],\n",
        "    r\"(?i)excited\": [\"That's wonderful! What's got you excited?\"],\n",
        "    r\"(?i)tired\": [\"I am sorry to hear that. Can you share more.\"]\n",
        "}"
      ]
    },
    {
      "cell_type": "code",
      "execution_count": null,
      "metadata": {
        "id": "fXjcGNGQFutJ"
      },
      "outputs": [],
      "source": [
        "def decontracted(phrase):\n",
        "    # Specific and general decontractions\n",
        "    phrase = re.sub(r\"won't\", \"will not\", phrase)\n",
        "    phrase = re.sub(r\"can't\", \"can not\", phrase)\n",
        "    phrase = re.sub(r\"n't\", \" not\", phrase)\n",
        "    phrase = re.sub(r\"'re\", \" are\", phrase)\n",
        "    phrase = re.sub(r\"'s\", \" is\", phrase)\n",
        "    phrase = re.sub(r\"'d\", \" would\", phrase)\n",
        "    phrase = re.sub(r\"'ll\", \" will\", phrase)\n",
        "    phrase = re.sub(r\"'t\", \" not\", phrase)\n",
        "    phrase = re.sub(r\"'ve\", \" have\", phrase)\n",
        "    phrase = re.sub(r\"'m\", \" am\", phrase)\n",
        "    return phrase"
      ]
    },
    {
      "cell_type": "code",
      "execution_count": null,
      "metadata": {
        "id": "1pF7rM6HEdeV"
      },
      "outputs": [],
      "source": [
        "# Transforming sentences into questions\n",
        "def transform_statement(statement):\n",
        "    # Transform statements into questions\n",
        "    if statement.endswith('.'):\n",
        "        statement = statement[:-1]  # Remove the period\n",
        "    if not statement.endswith('?'):\n",
        "        statement += '?'\n",
        "    return statement"
      ]
    },
    {
      "cell_type": "code",
      "execution_count": null,
      "metadata": {
        "id": "pciSBpGh2ds_"
      },
      "outputs": [],
      "source": [
        "# Defining a function that will match the user's input to the pre-defined repsonses\n",
        "\n",
        "def match_response(input_text):\n",
        "    input_text = decontracted(input_text)\n",
        "\n",
        "    #input_text = input_text.translate(str.maketrans('', '', string.punctuation))\n",
        "\n",
        "    # Check for word spotting patterns\n",
        "    for pattern, responses in word_spotting_patterns.items():\n",
        "        matches = re.search(pattern, input_text.lower())\n",
        "        if matches:\n",
        "            chosen_response = random.choice(responses)\n",
        "            return transform_statement(chosen_response)\n",
        "\n",
        "    # Check for responses\n",
        "    for pattern, response_list in response.items():\n",
        "        matches = re.match(pattern, input_text.lower())\n",
        "        if matches:\n",
        "            chosen_response = random.choice(response_list)\n",
        "            return transform_statement(chosen_response.format(*matches.groups()))\n",
        "\n",
        "    return (\"I am sorry, I don't understand your response.\")"
      ]
    },
    {
      "cell_type": "code",
      "execution_count": null,
      "metadata": {
        "colab": {
          "base_uri": "https://localhost:8080/"
        },
        "id": "u2EYUaooDPO7",
        "outputId": "c8efc815-eb7f-47f6-f4b0-f9dc69f4aeb2",
        "scrolled": true
      },
      "outputs": [
        {
          "output_type": "stream",
          "name": "stdout",
          "text": [
            " _____   _       ___   _____     _    \n",
            "| ____| | |     |_ _| |__  /    / \\   \n",
            "|  _|   | |      | |    / /    / _ \\  \n",
            "| |___  | |___   | |   / /_   / ___ \\ \n",
            "|_____| |_____| |___| /____| /_/   \\_\\\n",
            "                                      \n",
            "\n",
            "Hi, I'm Eliza, your psychotherapist! What's your name?\n",
            "Your name: Brown\n",
            "Hi Brown. How are you feeling today?\n",
            "Brown: I am feeling good\n",
            "Eliza: That's great! What's making you feel good?\n",
            "Brown: How are you?\n",
            "Eliza: I am fine! Thank you for asking! How are you feeling?\n",
            "Brown: I wish to be a CEO\n",
            "Eliza: Why do you wish to be a ceo? Is that your desire?\n",
            "Brown: Yes!\n",
            "Eliza: Alrighty! Tell me more?\n",
            "Brown: I want to be in-charge of a company\n",
            "Eliza: Why do you want to be in-charge of a company?\n",
            "Brown: Yes\n",
            "Eliza: What makes you feel sure?\n",
            "Brown: I am the best!\n",
            "Eliza: What makes you the best!?\n",
            "Brown: I am confident!\n",
            "Eliza: Why do you say you are confident!?\n",
            "Brown: I got skills!\n",
            "Eliza: How did you come to have skills!?\n",
            "Brown: I learnt them!\n",
            "Eliza: How does learnt them! make you feel?\n",
            "Brown: Good\n",
            "Eliza: That's great! What's making you feel good?\n",
            "Brown: Bye eliza\n",
            "Eliza: Until next time!?\n",
            "Brown: Yes\n",
            "Eliza: Alrighty! Tell me more?\n",
            "Brown: Exit\n",
            "Eliza: Goodbye!\n"
          ]
        }
      ],
      "source": [
        "# Creating the main loop to initialize Eliza\n",
        "\n",
        "f = Figlet(font='standard')\n",
        "print(colored(f.renderText('E L I Z A'), 'green'))\n",
        "\n",
        "print(\"Hi, I'm Eliza, your psychotherapist! What's your name?\")\n",
        "user_name = input(\"Your name: \")\n",
        "print(f\"Hi {user_name}. How are you feeling today?\")\n",
        "\n",
        "\n",
        "while True:\n",
        "    user_input = input(f\"{user_name}: \")\n",
        "    # Check if the user wants to quit or exit\n",
        "    if user_input.lower() in [\"quit\", \"exit\"]:\n",
        "        print(\"Eliza: Goodbye!\")\n",
        "        break  # Exit the loop\n",
        "    print(\"Eliza: \" + match_response(user_input))"
      ]
    }
  ],
  "metadata": {
    "colab": {
      "provenance": [],
      "include_colab_link": true
    },
    "kernelspec": {
      "display_name": "Python 3 (ipykernel)",
      "language": "python",
      "name": "python3"
    },
    "language_info": {
      "codemirror_mode": {
        "name": "ipython",
        "version": 3
      },
      "file_extension": ".py",
      "mimetype": "text/x-python",
      "name": "python",
      "nbconvert_exporter": "python",
      "pygments_lexer": "ipython3",
      "version": "3.9.13"
    }
  },
  "nbformat": 4,
  "nbformat_minor": 0
}